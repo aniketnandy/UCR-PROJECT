{
  "nbformat": 4,
  "nbformat_minor": 0,
  "metadata": {
    "colab": {
      "name": "Aniket Nandy_NLP_Q1.ipynb",
      "provenance": []
    },
    "kernelspec": {
      "display_name": "Python 3 (ipykernel)",
      "language": "python",
      "name": "python3"
    },
    "language_info": {
      "codemirror_mode": {
        "name": "ipython",
        "version": 3
      },
      "file_extension": ".py",
      "mimetype": "text/x-python",
      "name": "python",
      "nbconvert_exporter": "python",
      "pygments_lexer": "ipython3",
      "version": "3.8.12"
    }
  },
  "cells": [
    {
      "cell_type": "markdown",
      "metadata": {
        "id": "QKw-xT0sSIM8"
      },
      "source": [
        "# **ANIKET NANDY 015015 Q1 NLP**"
      ]
    },
    {
      "cell_type": "code",
      "metadata": {
        "id": "y_Q-E71mx9aD"
      },
      "source": [
        "#Create spark session\n",
        "import findspark\n",
        "findspark.init()\n",
        "from pyspark.sql import SparkSession\n",
        "spark = SparkSession.builder.appName(\"local[*]\").getOrCreate()"
      ],
      "execution_count": 2,
      "outputs": []
    },
    {
      "cell_type": "code",
      "metadata": {
        "id": "YHsTIY_qcjSy"
      },
      "source": [
        "import pandas as pd\n",
        "from pyspark.sql import SQLContext\n",
        "from pyspark.ml.feature import Tokenizer, StopWordsRemover, CountVectorizer, IDF\n",
        "from pyspark.ml.feature import StringIndexer\n",
        "from pyspark.ml.classification import LogisticRegression\n",
        "from pyspark.ml.feature import VectorAssembler\n",
        "from pyspark.ml import Pipeline\n",
        "from pyspark.sql.functions import udf\n",
        "import seaborn as sns"
      ],
      "execution_count": 3,
      "outputs": []
    },
    {
      "cell_type": "code",
      "metadata": {
        "id": "dDw5WC5Nyz-P"
      },
      "source": [
        "#Importing the dataset\n",
        "\n",
        "sqlContext = SQLContext(spark)\n",
        "pdf = pd.read_excel('Corona_NLP_train.xlsx')\n",
        "dataset = sqlContext.createDataFrame(pdf.astype(str))\n",
        "dataset = dataset.select('OriginalTweet','Sentiment')"
      ],
      "execution_count": 8,
      "outputs": []
    },
    {
      "cell_type": "code",
      "metadata": {
        "colab": {
          "base_uri": "https://localhost:8080/"
        },
        "id": "B0ISr5hHRWxb",
        "outputId": "086f601d-ad3b-4821-8726-429575df32e7"
      },
      "source": [
        "#showing top 10 rows\n",
        "dataset.show(10)"
      ],
      "execution_count": 16,
      "outputs": [
        {
          "output_type": "stream",
          "name": "stdout",
          "text": [
            "+--------------------+------------------+-----+\n",
            "|       OriginalTweet|         Sentiment|label|\n",
            "+--------------------+------------------+-----+\n",
            "|@MeNyrbie @Phil_G...|           Neutral|  2.0|\n",
            "|advice Talk to yo...|          Positive|  0.0|\n",
            "|Coronavirus Austr...|          Positive|  0.0|\n",
            "|My food stock is ...|          Positive|  0.0|\n",
            "|Me, ready to go a...|Extremely Negative|  4.0|\n",
            "|As news of the re...|          Positive|  0.0|\n",
            "|Cashier at grocer...|          Positive|  0.0|\n",
            "|Was at the superm...|           Neutral|  2.0|\n",
            "|Due to COVID-19 o...|          Positive|  0.0|\n",
            "|For corona preven...|          Negative|  1.0|\n",
            "+--------------------+------------------+-----+\n",
            "only showing top 10 rows\n",
            "\n"
          ]
        }
      ]
    },
    {
      "cell_type": "code",
      "metadata": {
        "colab": {
          "base_uri": "https://localhost:8080/"
        },
        "id": "XFr8tQC4RW6R",
        "outputId": "46b2081a-6cda-47da-9338-864d7202425a"
      },
      "source": [
        "#columns of dataset\n",
        "dataset.columns"
      ],
      "execution_count": 17,
      "outputs": [
        {
          "output_type": "execute_result",
          "data": {
            "text/plain": [
              "['OriginalTweet', 'Sentiment', 'label']"
            ]
          },
          "metadata": {},
          "execution_count": 17
        }
      ]
    },
    {
      "cell_type": "code",
      "metadata": {
        "colab": {
          "base_uri": "https://localhost:8080/"
        },
        "id": "yxCwKBgARXBe",
        "outputId": "b0195bd2-fa71-4eab-9f14-131ee6cbc36a"
      },
      "source": [
        "#counting the sentiment \n",
        "dataset.groupby('Sentiment').count().show()"
      ],
      "execution_count": 18,
      "outputs": [
        {
          "output_type": "stream",
          "name": "stdout",
          "text": [
            "+------------------+-----+\n",
            "|         Sentiment|count|\n",
            "+------------------+-----+\n",
            "|Extremely Negative| 5481|\n",
            "|           Neutral| 7713|\n",
            "|          Positive|11422|\n",
            "|          Negative| 9917|\n",
            "|Extremely Positive| 6624|\n",
            "+------------------+-----+\n",
            "\n"
          ]
        }
      ]
    },
    {
      "cell_type": "code",
      "metadata": {
        "colab": {
          "base_uri": "https://localhost:8080/",
          "height": 369
        },
        "id": "jANVV_9HHCH4",
        "outputId": "3d7382f6-de4e-4775-d1e6-1cbaf744c5cc"
      },
      "source": [
        "x1 = dataset.toPandas()\n",
        "sns.displot(x1['Sentiment'])\n",
        "sns.set(rc={'figure.figsize':(40,20)})"
      ],
      "execution_count": 9,
      "outputs": [
        {
          "output_type": "display_data",
          "data": {
            "image/png": "[encoded data removed]",
            "text/plain": [
              "<Figure size 360x360 with 1 Axes>"
            ]
          },
          "metadata": {
            "needs_background": "light"
          }
        }
      ]
    },
    {
      "cell_type": "code",
      "metadata": {
        "id": "7XvnkOCwGk6X"
      },
      "source": [
        "#Creating NLP Pipline\n",
        "\n",
        "#Stages\n",
        "tokenizer_originalTweet = Tokenizer(inputCol='OriginalTweet', outputCol='originalTweet_tokens')\n",
        "stopwords_remover_originalTweet = StopWordsRemover(inputCol='originalTweet_tokens', outputCol='filtered_originalTweet')\n",
        "vectorizer_originalTweet = CountVectorizer(inputCol=\"filtered_originalTweet\",outputCol=\"raw_features_originalTweet\")\n",
        "idf_originalTweet = IDF(inputCol='raw_features_originalTweet', outputCol='vectorized_features_originalTweet')"
      ],
      "execution_count": 10,
      "outputs": []
    },
    {
      "cell_type": "code",
      "metadata": {
        "id": "ngc39U5KMygw"
      },
      "source": [
        "#Label Encoding\n",
        "labelEncoder = StringIndexer(inputCol='Sentiment', outputCol='label').fit(dataset)\n",
        "dataset = labelEncoder.transform(dataset)"
      ],
      "execution_count": 11,
      "outputs": []
    },
    {
      "cell_type": "code",
      "metadata": {
        "id": "hyDr--kzN3GM"
      },
      "source": [
        "#Splitting dataset\n",
        "(train_df, test_df) = dataset.randomSplit((0.7,0.3),seed=42)"
      ],
      "execution_count": 12,
      "outputs": []
    },
    {
      "cell_type": "code",
      "metadata": {
        "id": "on-fsiy2dGjQ"
      },
      "source": [
        "#Building pipeline\n",
        "lr = LogisticRegression(featuresCol='vectorized_features_originalTweet', labelCol='label')\n",
        "pipeline = Pipeline(stages=[tokenizer_originalTweet,stopwords_remover_originalTweet,vectorizer_originalTweet,idf_originalTweet,lr])\n",
        "lr_model = pipeline.fit(train_df)"
      ],
      "execution_count": 13,
      "outputs": []
    },
    {
      "cell_type": "code",
      "metadata": {
        "colab": {
          "base_uri": "https://localhost:8080/"
        },
        "id": "N4afwL3MdiG9",
        "outputId": "69768d74-968c-46bb-8e73-b38a63d8ecac"
      },
      "source": [
        "#Prediction test data\n",
        "predictions = lr_model.transform(test_df)\n",
        "predictions.show()"
      ],
      "execution_count": 14,
      "outputs": [
        {
          "output_type": "stream",
          "name": "stdout",
          "text": [
            "+--------------------+------------------+-----+--------------------+----------------------+--------------------------+---------------------------------+--------------------+--------------------+----------+\n",
            "|       OriginalTweet|         Sentiment|label|originalTweet_tokens|filtered_originalTweet|raw_features_originalTweet|vectorized_features_originalTweet|       rawPrediction|         probability|prediction|\n",
            "+--------------------+------------------+-----+--------------------+----------------------+--------------------------+---------------------------------+--------------------+--------------------+----------+\n",
            "|  A revised rail ...|          Positive|  0.0|[, , a, revised, ...|  [, , revised, rai...|      (93690,[0,5,46,88...|             (93690,[0,5,46,88...|[193.343478629558...|[1.0,3.0089464313...|       0.0|\n",
            "|  Consumer Alert ...|Extremely Negative|  4.0|[, , consumer, al...|  [, , consumer, al...|      (93690,[0,10,48,1...|             (93690,[0,10,48,1...|[-47.424499702330...|[3.89951836935118...|       2.0|\n",
            "|  Don t panic buy...|          Negative|  1.0|[, , don, t, pani...|  [, , panic, buy, ...|      (93690,[0,3,7,13,...|             (93690,[0,3,7,13,...|[-47.559896481670...|[2.82060845458674...|       1.0|\n",
            "|  Due to bharat b...|Extremely Positive|  3.0|[, , due, to, bha...|  [, , due, bharat,...|      (93690,[0,4,8,29,...|             (93690,[0,4,8,29,...|[60.0094099091120...|[2.86453028342291...|       1.0|\n",
            "|  Hazard pay for ...|          Negative|  1.0|[, , hazard, pay,...|  [, , hazard, pay,...|      (93690,[0,5,12,16...|             (93690,[0,5,12,16...|[-87.310165266251...|[1.17183117637695...|       1.0|\n",
            "|  Hey ya ll Every...|          Negative|  1.0|[, , hey, ya, ll,...|  [, , hey, ya, ll,...|      (93690,[0,4,8,12,...|             (93690,[0,4,8,12,...|[401.730808266680...|[1.0,6.1802631744...|       0.0|\n",
            "|  How will this a...|          Positive|  0.0|[, , how, will, t...|  [, , affect, unab...|      (93690,[0,29,131,...|             (93690,[0,29,131,...|[226.566122344780...|[1.0,9.4159137852...|       0.0|\n",
            "|  New Podcast Las...|           Neutral|  2.0|[, , new, podcast...|  [, , new, podcast...|      (93690,[0,37,48,2...|             (93690,[0,37,48,2...|[86.7545681739204...|[1.0,3.6850427494...|       0.0|\n",
            "|  PLEASE RT Aston...|Extremely Positive|  3.0|[, , please, rt, ...|  [, , please, rt, ...|      (93690,[0,4,26,29...|             (93690,[0,4,26,29...|[261.728808571364...|[1.0,2.9176749945...|       0.0|\n",
            "|  Panic buying is...|          Negative|  1.0|[, , panic, buyin...|  [, , panic, buyin...|      (93690,[0,4,23,47...|             (93690,[0,4,23,47...|[238.779277734027...|[1.0,4.2539260114...|       0.0|\n",
            "|  Please don t pa...|          Negative|  1.0|[, , please, don,...|  [, , please, pani...|      (93690,[0,19,23,3...|             (93690,[0,19,23,3...|[125.261787195739...|[0.99999999986021...|       0.0|\n",
            "|  Stop   Fucking ...|          Negative|  1.0|[, , stop, , , fu...|  [, , stop, , , fu...|      (93690,[0,60,316,...|             (93690,[0,60,316,...|[-56.698223576318...|[1.00844955601782...|       4.0|\n",
            "|  Support Ken by ...|          Negative|  1.0|[, , support, ken...|  [, , support, ken...|      (93690,[0,4,12,16...|             (93690,[0,4,12,16...|[282.657919117868...|[1.0,2.2580363073...|       0.0|\n",
            "|  The gov of is c...|          Positive|  0.0|[, , the, gov, of...|  [, , gov, calling...|      (93690,[0,4,8,12,...|             (93690,[0,4,8,12,...|[29.4532622017253...|[7.38714601185520...|       1.0|\n",
            "|  What should I d...|          Positive|  0.0|[, , what, should...|  [, , m, buying, h...|      (93690,[0,2,19,47...|             (93690,[0,2,19,47...|[67.3056340138797...|[1.0,3.2767547384...|       0.0|\n",
            "|  Why are people ...|Extremely Negative|  4.0|[, , why, are, pe...|  [, , people, pani...|      (93690,[0,8,10,23...|             (93690,[0,8,10,23...|[8.14324046021592...|[1.57066998963694...|       4.0|\n",
            "|  bravo Supermark...|           Neutral|  2.0|[, , bravo, super...|  [, , bravo, super...|      (93690,[0,5,81,16...|             (93690,[0,5,81,16...|[163.615419016122...|[1.0,6.6818967752...|       0.0|\n",
            "|     too accurate 19|           Neutral|  2.0|[, , too, accurat...|    [, , accurate, 19]|      (93690,[0,12,5926...|             (93690,[0,12,5926...|[-28.433591821104...|[1.60555954055353...|       2.0|\n",
            "| A lot of our fam...|          Positive|  0.0|[, a, lot, of, ou...|  [, lot, families,...|      (93690,[0,4,33,54...|             (93690,[0,4,33,54...|[51.4121627675110...|[5.47972302461281...|       1.0|\n",
            "| A special shoppi...|Extremely Positive|  3.0|[, a, special, sh...|  [, special, shopp...|      (93690,[0,13,15,5...|             (93690,[0,13,15,5...|[63.8140878165811...|[0.99999996485038...|       0.0|\n",
            "+--------------------+------------------+-----+--------------------+----------------------+--------------------------+---------------------------------+--------------------+--------------------+----------+\n",
            "only showing top 20 rows\n",
            "\n"
          ]
        }
      ]
    },
    {
      "cell_type": "code",
      "metadata": {
        "colab": {
          "base_uri": "https://localhost:8080/"
        },
        "id": "HqMxQYzcF3ps",
        "outputId": "3a13b790-fa56-452f-a371-77cc1449442a"
      },
      "source": [
        "# Import evaluator\n",
        "from pyspark.ml.evaluation import MulticlassClassificationEvaluator\n",
        "evaluator = MulticlassClassificationEvaluator(\n",
        "    labelCol=\"label\", predictionCol=\"prediction\", metricName=\"accuracy\")\n",
        "accuracy = evaluator.evaluate(predictions)\n",
        "print(\"Accuracy = %g\" % (accuracy))\n",
        "print(\"Test Error = %g \" % (1.0 - accuracy))"
      ],
      "execution_count": 15,
      "outputs": [
        {
          "output_type": "stream",
          "name": "stdout",
          "text": [
            "Accuracy = 0.407693\n",
            "Test Error = 0.592307 \n"
          ]
        }
      ]
    }
  ]
}