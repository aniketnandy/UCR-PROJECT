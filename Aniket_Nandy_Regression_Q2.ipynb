{
  "nbformat": 4,
  "nbformat_minor": 0,
  "metadata": {
    "colab": {
      "name": "Aniket Nandy_Regression_Q2.ipynb",
      "provenance": []
    },
    "kernelspec": {
      "name": "python3",
      "display_name": "Python 3"
    },
    "language_info": {
      "name": "python"
    }
  },
  "cells": [
    {
      "cell_type": "markdown",
      "metadata": {
        "id": "4E-52YLwGIwq"
      },
      "source": [
        "# **ANIKET NANDY 015015 Q2 REGRESSION**"
      ]
    },
    {
      "cell_type": "code",
      "metadata": {
        "id": "mZp5x9ZRbR0M"
      },
      "source": [
        "#Create spark session\n",
        "import findspark\n",
        "findspark.init()\n",
        "from pyspark.sql import SparkSession\n",
        "spark = SparkSession.builder.appName(\"local[*]\").getOrCreate()"
      ],
      "execution_count": null,
      "outputs": []
    },
    {
      "cell_type": "code",
      "metadata": {
        "id": "5eyXwK7da9c9"
      },
      "source": [
        "from pyspark.ml.regression import LinearRegression\n",
        "from pyspark.ml.feature import StringIndexer\n",
        "from pyspark.ml.linalg import Vectors\n",
        "from pyspark.ml.feature import VectorAssembler"
      ],
      "execution_count": null,
      "outputs": []
    },
    {
      "cell_type": "code",
      "metadata": {
        "id": "WpWprhZMhg2Z",
        "colab": {
          "base_uri": "https://localhost:8080/"
        },
        "outputId": "56b7aceb-265b-4aa5-dc33-20714b8ecc60"
      },
      "source": [
        "#Import the dataset\n",
        "dataset = spark.read.csv(\"insurance.csv\",inferSchema=True,header=True)\n",
        "dataset.printSchema()"
      ],
      "execution_count": null,
      "outputs": [
        {
          "output_type": "stream",
          "name": "stdout",
          "text": [
            "root\n",
            " |-- age: integer (nullable = true)\n",
            " |-- sex: string (nullable = true)\n",
            " |-- bmi: double (nullable = true)\n",
            " |-- children: integer (nullable = true)\n",
            " |-- smoker: string (nullable = true)\n",
            " |-- region: string (nullable = true)\n",
            " |-- charges: double (nullable = true)\n",
            "\n"
          ]
        }
      ]
    },
    {
      "cell_type": "code",
      "metadata": {
        "id": "oe7sJZMp1TON",
        "colab": {
          "base_uri": "https://localhost:8080/"
        },
        "outputId": "3776ff07-5f3b-43eb-829e-03e702e2adff"
      },
      "source": [
        "#showing top 10 rows\n",
        "dataset.show(10)"
      ],
      "execution_count": null,
      "outputs": [
        {
          "output_type": "stream",
          "name": "stdout",
          "text": [
            "+---+------+------+--------+------+---------+-----------+\n",
            "|age|   sex|   bmi|children|smoker|   region|    charges|\n",
            "+---+------+------+--------+------+---------+-----------+\n",
            "| 19|female|  27.9|       0|   yes|southwest|  16884.924|\n",
            "| 18|  male| 33.77|       1|    no|southeast|  1725.5523|\n",
            "| 28|  male|  33.0|       3|    no|southeast|   4449.462|\n",
            "| 33|  male|22.705|       0|    no|northwest|21984.47061|\n",
            "| 32|  male| 28.88|       0|    no|northwest|  3866.8552|\n",
            "| 31|female| 25.74|       0|    no|southeast|  3756.6216|\n",
            "| 46|female| 33.44|       1|    no|southeast|  8240.5896|\n",
            "| 37|female| 27.74|       3|    no|northwest|  7281.5056|\n",
            "| 37|  male| 29.83|       2|    no|northeast|  6406.4107|\n",
            "| 60|female| 25.84|       0|    no|northwest|28923.13692|\n",
            "+---+------+------+--------+------+---------+-----------+\n",
            "only showing top 10 rows\n",
            "\n"
          ]
        }
      ]
    },
    {
      "cell_type": "code",
      "metadata": {
        "id": "aXOJ3-cl1ejo",
        "colab": {
          "base_uri": "https://localhost:8080/"
        },
        "outputId": "a4947f0f-f6cc-4b96-dc9d-7bc873f61036"
      },
      "source": [
        "#showing the columns\n",
        "dataset.columns"
      ],
      "execution_count": null,
      "outputs": [
        {
          "output_type": "execute_result",
          "data": {
            "text/plain": [
              "['age', 'sex', 'bmi', 'children', 'smoker', 'region', 'charges']"
            ]
          },
          "metadata": {},
          "execution_count": 100
        }
      ]
    },
    {
      "cell_type": "code",
      "metadata": {
        "id": "UavLSEwL5dbe",
        "colab": {
          "base_uri": "https://localhost:8080/",
          "height": 315
        },
        "outputId": "c51fbf36-2db4-4409-90fd-cc755a9ebc1c"
      },
      "source": [
        "#Plot: age \n",
        "import matplotlib.pyplot as plt \n",
        "\n",
        "x1 = dataset.toPandas()[\"age\"].values\n",
        "plt.hist(x1,rwidth=0.95)"
      ],
      "execution_count": null,
      "outputs": [
        {
          "output_type": "execute_result",
          "data": {
            "text/plain": [
              "(array([222., 140., 109., 128., 102., 137., 144., 114., 128., 114.]),\n",
              " array([18. , 22.6, 27.2, 31.8, 36.4, 41. , 45.6, 50.2, 54.8, 59.4, 64. ]),\n",
              " <a list of 10 Patch objects>)"
            ]
          },
          "metadata": {},
          "execution_count": 101
        },
        {
          "output_type": "display_data",
          "data": {
            "image/png": "[encoded data removed]",
            "text/plain": [
              "<Figure size 432x288 with 1 Axes>"
            ]
          },
          "metadata": {
            "needs_background": "light"
          }
        }
      ]
    },
    {
      "cell_type": "code",
      "metadata": {
        "id": "YiZoVHr7CdKB",
        "colab": {
          "base_uri": "https://localhost:8080/",
          "height": 332
        },
        "outputId": "bedc93fe-d49e-4b81-be0b-a65faf5c326f"
      },
      "source": [
        "#Plot: bmi\n",
        "x2 = dataset.toPandas()[\"bmi\"].values\n",
        "plt.hist(x2, rwidth=0.95)"
      ],
      "execution_count": null,
      "outputs": [
        {
          "output_type": "execute_result",
          "data": {
            "text/plain": [
              "(array([ 30., 127., 234., 319., 288., 195.,  96.,  32.,  14.,   3.]),\n",
              " array([15.96 , 19.677, 23.394, 27.111, 30.828, 34.545, 38.262, 41.979,\n",
              "        45.696, 49.413, 53.13 ]),\n",
              " <a list of 10 Patch objects>)"
            ]
          },
          "metadata": {},
          "execution_count": 102
        },
        {
          "output_type": "display_data",
          "data": {
            "image/png": "[encoded data removed]",
            "text/plain": [
              "<Figure size 432x288 with 1 Axes>"
            ]
          },
          "metadata": {
            "needs_background": "light"
          }
        }
      ]
    },
    {
      "cell_type": "code",
      "metadata": {
        "id": "DWgQ-2ACDes7",
        "colab": {
          "base_uri": "https://localhost:8080/",
          "height": 315
        },
        "outputId": "bb5bfea5-dcf5-42a2-d9e3-64269ef6db1c"
      },
      "source": [
        "#Plot: region\n",
        "x3 = dataset.toPandas()[\"region\"].values\n",
        "plt.hist(x3)"
      ],
      "execution_count": null,
      "outputs": [
        {
          "output_type": "execute_result",
          "data": {
            "text/plain": [
              "(array([325.,   0.,   0., 364.,   0.,   0., 325.,   0.,   0., 324.]),\n",
              " array([0. , 0.3, 0.6, 0.9, 1.2, 1.5, 1.8, 2.1, 2.4, 2.7, 3. ]),\n",
              " <a list of 10 Patch objects>)"
            ]
          },
          "metadata": {},
          "execution_count": 103
        },
        {
          "output_type": "display_data",
          "data": {
            "image/png": "[encoded data removed]",
            "text/plain": [
              "<Figure size 432x288 with 1 Axes>"
            ]
          },
          "metadata": {
            "needs_background": "light"
          }
        }
      ]
    },
    {
      "cell_type": "code",
      "metadata": {
        "id": "TuWgSitkD3IZ",
        "colab": {
          "base_uri": "https://localhost:8080/",
          "height": 318
        },
        "outputId": "8498d085-1b3b-4ed2-e054-2130706deea4"
      },
      "source": [
        "#Plot: Children\n",
        "x4 = dataset.toPandas()[\"children\"].values\n",
        "plt.hist(x4)"
      ],
      "execution_count": null,
      "outputs": [
        {
          "output_type": "execute_result",
          "data": {
            "text/plain": [
              "(array([574.,   0., 324.,   0., 240.,   0., 157.,   0.,  25.,  18.]),\n",
              " array([0. , 0.5, 1. , 1.5, 2. , 2.5, 3. , 3.5, 4. , 4.5, 5. ]),\n",
              " <a list of 10 Patch objects>)"
            ]
          },
          "metadata": {},
          "execution_count": 104
        },
        {
          "output_type": "display_data",
          "data": {
            "image/png": "[encoded data removed]",
            "text/plain": [
              "<Figure size 432x288 with 1 Axes>"
            ]
          },
          "metadata": {
            "needs_background": "light"
          }
        }
      ]
    },
    {
      "cell_type": "code",
      "metadata": {
        "id": "99XIj4RqEKP2",
        "colab": {
          "base_uri": "https://localhost:8080/",
          "height": 282
        },
        "outputId": "2a0e9b3e-44f7-4a7a-9a75-61adb46ca7ab"
      },
      "source": [
        "#Get idea about the relationship of age and charges\n",
        "x5 = dataset.toPandas()[\"charges\"].values\n",
        "plt.scatter(x1,x5)"
      ],
      "execution_count": null,
      "outputs": [
        {
          "output_type": "execute_result",
          "data": {
            "text/plain": [
              "<matplotlib.collections.PathCollection at 0x7fadd9fbaf10>"
            ]
          },
          "metadata": {},
          "execution_count": 105
        },
        {
          "output_type": "display_data",
          "data": {
            "image/png": "[encoded data removed]",
            "text/plain": [
              "<Figure size 432x288 with 1 Axes>"
            ]
          },
          "metadata": {
            "needs_background": "light"
          }
        }
      ]
    },
    {
      "cell_type": "code",
      "metadata": {
        "id": "eKIDxiZoE0nE",
        "colab": {
          "base_uri": "https://localhost:8080/",
          "height": 282
        },
        "outputId": "a6f9ba36-1514-4238-d013-ff7b714c6776"
      },
      "source": [
        "#bmi vs charges\n",
        "plt.scatter(x2,x5)"
      ],
      "execution_count": null,
      "outputs": [
        {
          "output_type": "execute_result",
          "data": {
            "text/plain": [
              "<matplotlib.collections.PathCollection at 0x7fadd94d47d0>"
            ]
          },
          "metadata": {},
          "execution_count": 106
        },
        {
          "output_type": "display_data",
          "data": {
            "image/png": "[encoded data removed]",
            "text/plain": [
              "<Figure size 432x288 with 1 Axes>"
            ]
          },
          "metadata": {
            "needs_background": "light"
          }
        }
      ]
    },
    {
      "cell_type": "code",
      "metadata": {
        "id": "UkbJ_wmCy8vL",
        "colab": {
          "base_uri": "https://localhost:8080/"
        },
        "outputId": "0cba3c1e-3235-475f-b296-49d9b5d46064"
      },
      "source": [
        "#Transform String to Index\n",
        "indexer = StringIndexer(inputCols=[\"sex\",\"smoker\",\"region\"], outputCols=[\"sexIndex\",\"smokerIndex\",\"regionIndex\"])\n",
        "dataset_indexed = indexer.fit(dataset).transform(dataset)\n",
        "dataset_indexed.show()"
      ],
      "execution_count": null,
      "outputs": [
        {
          "output_type": "stream",
          "name": "stdout",
          "text": [
            "+---+------+------+--------+------+---------+-----------+--------+-----------+-----------+\n",
            "|age|   sex|   bmi|children|smoker|   region|    charges|sexIndex|smokerIndex|regionIndex|\n",
            "+---+------+------+--------+------+---------+-----------+--------+-----------+-----------+\n",
            "| 19|female|  27.9|       0|   yes|southwest|  16884.924|     1.0|        1.0|        2.0|\n",
            "| 18|  male| 33.77|       1|    no|southeast|  1725.5523|     0.0|        0.0|        0.0|\n",
            "| 28|  male|  33.0|       3|    no|southeast|   4449.462|     0.0|        0.0|        0.0|\n",
            "| 33|  male|22.705|       0|    no|northwest|21984.47061|     0.0|        0.0|        1.0|\n",
            "| 32|  male| 28.88|       0|    no|northwest|  3866.8552|     0.0|        0.0|        1.0|\n",
            "| 31|female| 25.74|       0|    no|southeast|  3756.6216|     1.0|        0.0|        0.0|\n",
            "| 46|female| 33.44|       1|    no|southeast|  8240.5896|     1.0|        0.0|        0.0|\n",
            "| 37|female| 27.74|       3|    no|northwest|  7281.5056|     1.0|        0.0|        1.0|\n",
            "| 37|  male| 29.83|       2|    no|northeast|  6406.4107|     0.0|        0.0|        3.0|\n",
            "| 60|female| 25.84|       0|    no|northwest|28923.13692|     1.0|        0.0|        1.0|\n",
            "| 25|  male| 26.22|       0|    no|northeast|  2721.3208|     0.0|        0.0|        3.0|\n",
            "| 62|female| 26.29|       0|   yes|southeast| 27808.7251|     1.0|        1.0|        0.0|\n",
            "| 23|  male|  34.4|       0|    no|southwest|   1826.843|     0.0|        0.0|        2.0|\n",
            "| 56|female| 39.82|       0|    no|southeast| 11090.7178|     1.0|        0.0|        0.0|\n",
            "| 27|  male| 42.13|       0|   yes|southeast| 39611.7577|     0.0|        1.0|        0.0|\n",
            "| 19|  male|  24.6|       1|    no|southwest|   1837.237|     0.0|        0.0|        2.0|\n",
            "| 52|female| 30.78|       1|    no|northeast| 10797.3362|     1.0|        0.0|        3.0|\n",
            "| 23|  male|23.845|       0|    no|northeast| 2395.17155|     0.0|        0.0|        3.0|\n",
            "| 56|  male|  40.3|       0|    no|southwest|  10602.385|     0.0|        0.0|        2.0|\n",
            "| 30|  male|  35.3|       0|   yes|southwest|  36837.467|     0.0|        1.0|        2.0|\n",
            "+---+------+------+--------+------+---------+-----------+--------+-----------+-----------+\n",
            "only showing top 20 rows\n",
            "\n"
          ]
        }
      ]
    },
    {
      "cell_type": "code",
      "metadata": {
        "id": "zn-rG3KzkCzB",
        "colab": {
          "base_uri": "https://localhost:8080/"
        },
        "outputId": "5ba9662a-fa1a-471d-e505-3aee3c570c8d"
      },
      "source": [
        "#Group the features together\n",
        "feature_assembler = VectorAssembler(inputCols=[\"age\",\"sexIndex\",\"bmi\",\"children\",\"smokerIndex\",\"regionIndex\"], outputCol=\"independent_features\")\n",
        "output = feature_assembler.transform(dataset_indexed)\n",
        "output.show()"
      ],
      "execution_count": null,
      "outputs": [
        {
          "output_type": "stream",
          "name": "stdout",
          "text": [
            "+---+------+------+--------+------+---------+-----------+--------+-----------+-----------+--------------------+\n",
            "|age|   sex|   bmi|children|smoker|   region|    charges|sexIndex|smokerIndex|regionIndex|independent_features|\n",
            "+---+------+------+--------+------+---------+-----------+--------+-----------+-----------+--------------------+\n",
            "| 19|female|  27.9|       0|   yes|southwest|  16884.924|     1.0|        1.0|        2.0|[19.0,1.0,27.9,0....|\n",
            "| 18|  male| 33.77|       1|    no|southeast|  1725.5523|     0.0|        0.0|        0.0|[18.0,0.0,33.77,1...|\n",
            "| 28|  male|  33.0|       3|    no|southeast|   4449.462|     0.0|        0.0|        0.0|[28.0,0.0,33.0,3....|\n",
            "| 33|  male|22.705|       0|    no|northwest|21984.47061|     0.0|        0.0|        1.0|[33.0,0.0,22.705,...|\n",
            "| 32|  male| 28.88|       0|    no|northwest|  3866.8552|     0.0|        0.0|        1.0|[32.0,0.0,28.88,0...|\n",
            "| 31|female| 25.74|       0|    no|southeast|  3756.6216|     1.0|        0.0|        0.0|[31.0,1.0,25.74,0...|\n",
            "| 46|female| 33.44|       1|    no|southeast|  8240.5896|     1.0|        0.0|        0.0|[46.0,1.0,33.44,1...|\n",
            "| 37|female| 27.74|       3|    no|northwest|  7281.5056|     1.0|        0.0|        1.0|[37.0,1.0,27.74,3...|\n",
            "| 37|  male| 29.83|       2|    no|northeast|  6406.4107|     0.0|        0.0|        3.0|[37.0,0.0,29.83,2...|\n",
            "| 60|female| 25.84|       0|    no|northwest|28923.13692|     1.0|        0.0|        1.0|[60.0,1.0,25.84,0...|\n",
            "| 25|  male| 26.22|       0|    no|northeast|  2721.3208|     0.0|        0.0|        3.0|[25.0,0.0,26.22,0...|\n",
            "| 62|female| 26.29|       0|   yes|southeast| 27808.7251|     1.0|        1.0|        0.0|[62.0,1.0,26.29,0...|\n",
            "| 23|  male|  34.4|       0|    no|southwest|   1826.843|     0.0|        0.0|        2.0|[23.0,0.0,34.4,0....|\n",
            "| 56|female| 39.82|       0|    no|southeast| 11090.7178|     1.0|        0.0|        0.0|[56.0,1.0,39.82,0...|\n",
            "| 27|  male| 42.13|       0|   yes|southeast| 39611.7577|     0.0|        1.0|        0.0|[27.0,0.0,42.13,0...|\n",
            "| 19|  male|  24.6|       1|    no|southwest|   1837.237|     0.0|        0.0|        2.0|[19.0,0.0,24.6,1....|\n",
            "| 52|female| 30.78|       1|    no|northeast| 10797.3362|     1.0|        0.0|        3.0|[52.0,1.0,30.78,1...|\n",
            "| 23|  male|23.845|       0|    no|northeast| 2395.17155|     0.0|        0.0|        3.0|[23.0,0.0,23.845,...|\n",
            "| 56|  male|  40.3|       0|    no|southwest|  10602.385|     0.0|        0.0|        2.0|[56.0,0.0,40.3,0....|\n",
            "| 30|  male|  35.3|       0|   yes|southwest|  36837.467|     0.0|        1.0|        2.0|[30.0,0.0,35.3,0....|\n",
            "+---+------+------+--------+------+---------+-----------+--------+-----------+-----------+--------------------+\n",
            "only showing top 20 rows\n",
            "\n"
          ]
        }
      ]
    },
    {
      "cell_type": "code",
      "metadata": {
        "id": "LW9OiXuqlGUp",
        "colab": {
          "base_uri": "https://localhost:8080/"
        },
        "outputId": "778e2552-ac4e-4e43-e3f6-e24947e9f565"
      },
      "source": [
        "finalized_data = output.select(\"independent_features\",\"charges\")\n",
        "finalized_data.show()"
      ],
      "execution_count": null,
      "outputs": [
        {
          "output_type": "stream",
          "name": "stdout",
          "text": [
            "+--------------------+-----------+\n",
            "|independent_features|    charges|\n",
            "+--------------------+-----------+\n",
            "|[19.0,1.0,27.9,0....|  16884.924|\n",
            "|[18.0,0.0,33.77,1...|  1725.5523|\n",
            "|[28.0,0.0,33.0,3....|   4449.462|\n",
            "|[33.0,0.0,22.705,...|21984.47061|\n",
            "|[32.0,0.0,28.88,0...|  3866.8552|\n",
            "|[31.0,1.0,25.74,0...|  3756.6216|\n",
            "|[46.0,1.0,33.44,1...|  8240.5896|\n",
            "|[37.0,1.0,27.74,3...|  7281.5056|\n",
            "|[37.0,0.0,29.83,2...|  6406.4107|\n",
            "|[60.0,1.0,25.84,0...|28923.13692|\n",
            "|[25.0,0.0,26.22,0...|  2721.3208|\n",
            "|[62.0,1.0,26.29,0...| 27808.7251|\n",
            "|[23.0,0.0,34.4,0....|   1826.843|\n",
            "|[56.0,1.0,39.82,0...| 11090.7178|\n",
            "|[27.0,0.0,42.13,0...| 39611.7577|\n",
            "|[19.0,0.0,24.6,1....|   1837.237|\n",
            "|[52.0,1.0,30.78,1...| 10797.3362|\n",
            "|[23.0,0.0,23.845,...| 2395.17155|\n",
            "|[56.0,0.0,40.3,0....|  10602.385|\n",
            "|[30.0,0.0,35.3,0....|  36837.467|\n",
            "+--------------------+-----------+\n",
            "only showing top 20 rows\n",
            "\n"
          ]
        }
      ]
    },
    {
      "cell_type": "code",
      "metadata": {
        "id": "Ke9ZpCna3Y0W"
      },
      "source": [
        "#Define the model and train\n",
        "train_data, test_data = finalized_data.randomSplit([0.75,0.25])\n",
        "regressor = LinearRegression(featuresCol=\"independent_features\", labelCol=\"charges\")\n",
        "regressor = regressor.fit(train_data)"
      ],
      "execution_count": null,
      "outputs": []
    },
    {
      "cell_type": "code",
      "metadata": {
        "id": "DegEyAjCG3VV",
        "colab": {
          "base_uri": "https://localhost:8080/"
        },
        "outputId": "9183ec5c-aa3a-4295-a111-e8668292009d"
      },
      "source": [
        "#Predictions\n",
        "pred_results = regressor.evaluate(test_data)\n",
        "print(\"MEAN ABSOLUTE ERROR: \", pred_results.meanAbsoluteError)\n",
        "print(\"MEAN SQUARED ERROR: \", pred_results.meanSquaredError)\n",
        "print(\"RMSE: \", pred_results.rootMeanSquaredError)"
      ],
      "execution_count": null,
      "outputs": [
        {
          "output_type": "stream",
          "name": "stdout",
          "text": [
            "MEAN ABSOLUTE ERROR:  4366.789658893621\n",
            "MEAN SQUARED ERROR:  40254860.6523777\n",
            "RMSE:  6344.671831732332\n"
          ]
        }
      ]
    }
  ]
}